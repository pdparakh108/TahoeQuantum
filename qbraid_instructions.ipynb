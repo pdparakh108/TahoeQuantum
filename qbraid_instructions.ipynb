{
 "cells": [
  {
   "cell_type": "markdown",
   "metadata": {},
   "source": [
    "# Getting Started with Qbraid"
   ]
  },
  {
   "cell_type": "markdown",
   "metadata": {},
   "source": [
    "If you decided that you want to run the notebook and do your coding on Qbraid, the following instructions will be helpful. If not, feel free to work on a local computer, Google Colab, or any other software of your choice! \n",
    "\n",
    "Qbraid will give us an environment in which we can run example notebook, and will have an environment created that includes the packages you need. Qbraid also gives you the ability to run experiments on actual quantum computers easily. To get started, first make an account with [Qbraid](https://www.qbraid.com/).\n",
    "\n",
    "After you make an account an login, under the \"Compute\" tab, select \"Free 2vCPU 4GB RAM\" and then click Launch Lab and then \"My Server\". This should take you to an interface with a terminal, a file tree, and an environemnt manager. Downlaod the files from this [GitHub repository](https://github.com/pdparakh108/TahoeQuantum.git), and upload them to Qbraid. \n",
    "\n",
    "We will now set up the environment needed to run the notebook. Under \"Environments\", click \"Add\". Then, in the box that says \"discover via access code\", type in the code: **1b4eb41a-8e1d-441e-a9aa-9ec8e110b72e** and press the plus button. This will make the Tahoe Quantum environment discoverable to you. Then, search for \"Tahoe Quantum\" and click install. Once the environment is installed, you should be able to see it in your available kernels to use. \n",
    "\n",
    "Then, you can open the Jupyter Notebook with the challenge, select the \"Tahoe Quantum\" kernel from the top right hand corner, and you should be able to run the entire notebook!\n"
   ]
  },
  {
   "cell_type": "markdown",
   "metadata": {},
   "source": [
    "## Running on Actual Machines\n",
    "\n",
    "Qbraid lets you run code on actual quantum computers! Here are some resources that explain how to do this, in case you want to do so as a part of your solution:\n",
    "- submit via Lab: https://docs.qbraid.com/lab/user-guide/quantum-jobs\n",
    "- submit via our VSCode extension: https://docs.qbraid.com/lab/user-guide/integrations\n",
    "- submit via qBraid SDK: https://docs.qbraid.com/sdk/user-guide/providers/native\n",
    "\n",
    "For any other questions, please see the Qbraid [docs](https://docs.qbraid.com/lab/user-guide/overview)"
   ]
  }
 ],
 "metadata": {
  "language_info": {
   "name": "python"
  }
 },
 "nbformat": 4,
 "nbformat_minor": 2
}
